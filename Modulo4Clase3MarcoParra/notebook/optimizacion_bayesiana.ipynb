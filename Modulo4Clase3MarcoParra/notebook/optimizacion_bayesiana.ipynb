{
 "cells": [],
 "metadata": {
  "kernelspec": {
   "display_name": "especialidadmachinelearning",
   "language": "python",
   "name": "python3"
  },
  "language_info": {
   "name": "python",
   "version": "3.8.20"
  }
 },
 "nbformat": 4,
 "nbformat_minor": 5
}
