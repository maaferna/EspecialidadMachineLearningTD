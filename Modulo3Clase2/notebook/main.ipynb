{
 "cells": [
  {
   "cell_type": "code",
   "execution_count": 17,
   "id": "88d56c76",
   "metadata": {},
   "outputs": [
    {
     "name": "stdout",
     "output_type": "stream",
     "text": [
      "Requirement already satisfied: numpy in /home/mparraf/.local/lib/python3.8/site-packages (1.23.5)\n",
      "Requirement already satisfied: matplotlib in /home/mparraf/.local/lib/python3.8/site-packages (3.7.5)\n",
      "Requirement already satisfied: contourpy>=1.0.1 in /home/mparraf/.local/lib/python3.8/site-packages (from matplotlib) (1.1.1)\n",
      "Requirement already satisfied: cycler>=0.10 in /home/mparraf/.local/lib/python3.8/site-packages (from matplotlib) (0.12.1)\n",
      "Requirement already satisfied: fonttools>=4.22.0 in /home/mparraf/.local/lib/python3.8/site-packages (from matplotlib) (4.57.0)\n",
      "Requirement already satisfied: kiwisolver>=1.0.1 in /home/mparraf/.local/lib/python3.8/site-packages (from matplotlib) (1.4.7)\n",
      "Requirement already satisfied: packaging>=20.0 in /home/mparraf/.local/lib/python3.8/site-packages (from matplotlib) (25.0)\n",
      "Requirement already satisfied: pillow>=6.2.0 in /home/mparraf/.local/lib/python3.8/site-packages (from matplotlib) (10.4.0)\n",
      "Requirement already satisfied: pyparsing>=2.3.1 in /home/mparraf/.local/lib/python3.8/site-packages (from matplotlib) (3.1.4)\n",
      "Requirement already satisfied: python-dateutil>=2.7 in /home/mparraf/.local/lib/python3.8/site-packages (from matplotlib) (2.9.0.post0)\n",
      "Requirement already satisfied: importlib-resources>=3.2.0 in /home/mparraf/.local/lib/python3.8/site-packages (from matplotlib) (6.4.5)\n",
      "Requirement already satisfied: zipp>=3.1.0 in /home/mparraf/.local/lib/python3.8/site-packages (from importlib-resources>=3.2.0->matplotlib) (3.20.2)\n",
      "Requirement already satisfied: six>=1.5 in /home/mparraf/.local/lib/python3.8/site-packages (from python-dateutil>=2.7->matplotlib) (1.17.0)\n"
     ]
    }
   ],
   "source": [
    "# ✅ Instalar dependencias (si es necesario)\n",
    "!pip install numpy matplotlib\n"
   ]
  },
  {
   "cell_type": "code",
   "execution_count": 18,
   "id": "f7fae144",
   "metadata": {},
   "outputs": [],
   "source": [
    "# ✅ Agregar ruta src/ al path\n",
    "import sys\n",
    "from pathlib import Path\n",
    "\n",
    "project_root = Path().resolve().parent\n",
    "sys.path.append(str(project_root / \"src\"))\n"
   ]
  },
  {
   "cell_type": "code",
   "execution_count": 19,
   "id": "c387b6d6",
   "metadata": {},
   "outputs": [],
   "source": [
    "# ✅ Importar funciones necesarias\n",
    "from sistemas_lineales import ejecutar_sistemas_lineales\n",
    "from utils import ejecutar_transformacion_por_sistema\n"
   ]
  },
  {
   "cell_type": "code",
   "execution_count": 21,
   "id": "4bccc678",
   "metadata": {},
   "outputs": [
    {
     "name": "stdout",
     "output_type": "stream",
     "text": [
      "=== SISTEMA: CUADRADO ===\n",
      "Shape de x: (3,)\n",
      "Solución x: [2.  1.8 0.4]\n",
      "Forma de A: (3, 3)\n",
      "Solución x: [2.  1.8 0.4] \n",
      "\n",
      "✅ Resultado guardado en: outputs/solucion_cuadrado.json\n",
      "📈 Gráfico guardado en: outputs/grafico_solucion_cuadrado.png\n",
      "=== SISTEMA: SOBREDETERMINADO ===\n",
      "Shape de x: (2,)\n",
      "Residuos: [6.73684211]\n",
      "********************\n",
      "Shape de x: (2,)\n",
      "Solución x: [2.47368421 0.21052632]\n",
      "Shape de A: (3, 2)\n",
      "Shape de b: (3,)\n",
      "Rango de A: 2\n",
      "Valores singulares de A: [5.82051023 1.05908482]\n",
      "Residuos: [6.73684211]\n",
      "Forma de A: (3, 2), Forma de b: (3,), Forma de x: (2,)\n",
      "Shape de x: (2,)\n",
      "Solución x: [2.47368421 0.21052632]\n",
      "Forma de A: (3, 2)\n",
      "Solución x: [2.47368421 0.21052632] \n",
      "\n",
      "✅ Resultado guardado en: outputs/solucion_sobredeterminado.json\n",
      "📈 Gráfico guardado en: outputs/grafico_solucion_sobredeterminado.png\n",
      "=== SISTEMA: SUBDETERMINADO ===\n",
      "Shape de x: (3,)\n",
      "No hay residuos, el sistema es compatible o subdeterminado.\n",
      "********************\n",
      "Shape de x: (3,)\n",
      "Solución x: [-3.05555556  0.11111111  3.27777778]\n",
      "Shape de A: (2, 3)\n",
      "Shape de b: (2,)\n",
      "Rango de A: 2\n",
      "Valores singulares de A: [9.508032   0.77286964]\n",
      "Residuos: N/A\n",
      "Forma de A: (2, 3), Forma de b: (2,), Forma de x: (3,)\n",
      "Shape de x: (3,)\n",
      "Solución x: [-3.05555556  0.11111111  3.27777778]\n",
      "Forma de A: (2, 3)\n",
      "Solución x: [-3.05555556  0.11111111  3.27777778] \n",
      "\n",
      "✅ Resultado guardado en: outputs/solucion_subdeterminado.json\n",
      "📈 Gráfico guardado en: outputs/grafico_solucion_subdeterminado.png\n",
      "✅ Gráfico de transformación guardado en: outputs/transformacion_cuadrado.png\n",
      "✅ Gráfico de transformación guardado en: outputs/transformacion_sobredeterminado.png\n",
      "✅ Gráfico de transformación guardado en: outputs/transformacion_subdeterminado.png\n"
     ]
    }
   ],
   "source": [
    "# ✅ Ejecutar flujo principal\n",
    "sistemas = ejecutar_sistemas_lineales()\n",
    "ejecutar_transformacion_por_sistema(sistemas)\n"
   ]
  }
 ],
 "metadata": {
  "language_info": {
   "name": "python"
  }
 },
 "nbformat": 4,
 "nbformat_minor": 5
}
