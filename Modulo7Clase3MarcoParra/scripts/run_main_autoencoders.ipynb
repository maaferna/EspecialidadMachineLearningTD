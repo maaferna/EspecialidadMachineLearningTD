{
 "cells": [
  {
   "cell_type": "markdown",
   "id": "045267cd",
   "metadata": {},
   "source": [
    "# 🚀 Runner de Autoencoders (MNIST) — ejecuta `scripts/main.py`\n",
    "\n",
    "Este notebook permite lanzar el **AE básico** y el **Denoising AE** de tu proyecto y ver los resultados *inline*.\n",
    "- Asegúrate de que el proyecto está clonado y que `scripts/main.py` existe.\n",
    "- Cambia `PROJECT_ROOT` si tu ruta local es distinta.\n"
   ]
  },
  {
   "cell_type": "code",
   "execution_count": null,
   "id": "43cc77de",
   "metadata": {},
   "outputs": [],
   "source": [
    "# ⛳ Configuración de rutas\n",
    "from pathlib import Path\n",
    "import os, glob\n",
    "from IPython.display import Image, display\n",
    "\n",
    "# Cambia esta ruta si tu proyecto está en otra ubicación\n",
    "PROJECT_ROOT = Path(\"/home/malezainia2/mini_projects/machine_learning_projects/Modulo7Clase3MarcoParra\").resolve()\n",
    "\n",
    "MAIN = PROJECT_ROOT / \"scripts\" / \"main.py\"\n",
    "OUT_DIR = PROJECT_ROOT / \"outputs_ae\"\n",
    "\n",
    "print(\"PROJECT_ROOT:\", PROJECT_ROOT)\n",
    "print(\"MAIN exists? \", MAIN.exists())\n",
    "OUT_DIR.mkdir(parents=True, exist_ok=True)"
   ]
  },
  {
   "cell_type": "code",
   "execution_count": null,
   "id": "e05971fd",
   "metadata": {},
   "outputs": [],
   "source": [
    "# 🔎 Verificar GPU (opcional)\n",
    "try:\n",
    "    import tensorflow as tf\n",
    "    print(\"GPUs visibles:\", tf.config.list_physical_devices('GPU'))\n",
    "except Exception as e:\n",
    "    print(\"TensorFlow no disponible o sin GPU:\", e)"
   ]
  },
  {
   "cell_type": "markdown",
   "id": "e650d0ca",
   "metadata": {},
   "source": [
    "## 🔹 Ejecutar Autoencoder **Básico**"
   ]
  },
  {
   "cell_type": "code",
   "execution_count": null,
   "id": "3ee4e7c1",
   "metadata": {},
   "outputs": [],
   "source": [
    "# Ejecuta el AE básico\n",
    "!CUDA_VISIBLE_DEVICES=0 python \"{str(MAIN)}\" --mode basic --epochs 20 --batch-size 128\n",
    "\n",
    "# Mostrar imágenes generadas\n",
    "for png in sorted(glob.glob(str(OUT_DIR / \"ae_basic*.png\"))):\n",
    "    display(Image(png))"
   ]
  },
  {
   "cell_type": "markdown",
   "id": "bf6c4f0d",
   "metadata": {},
   "source": [
    "## 🔹 Ejecutar **Denoising Autoencoder**"
   ]
  },
  {
   "cell_type": "code",
   "execution_count": null,
   "id": "9868d601",
   "metadata": {},
   "outputs": [],
   "source": [
    "# Ejecuta el Denoising AE (ruido gaussiano)\n",
    "!CUDA_VISIBLE_DEVICES=0 python \"{str(MAIN)}\" --mode denoise --epochs 20 --batch-size 128 --sigma 0.5\n",
    "\n",
    "# Mostrar imágenes generadas\n",
    "for png in sorted(glob.glob(str(OUT_DIR / \"ae_denoise*.png\"))):\n",
    "    display(Image(png))"
   ]
  },
  {
   "cell_type": "markdown",
   "id": "0b4c814a",
   "metadata": {},
   "source": [
    "## 📈 (Opcional) Graficar métricas desde los JSON de *history*"
   ]
  },
  {
   "cell_type": "code",
   "execution_count": null,
   "id": "47c3c63c",
   "metadata": {},
   "outputs": [],
   "source": [
    "import json\n",
    "import matplotlib.pyplot as plt\n",
    "\n",
    "def plot_history(json_path):\n",
    "    with open(json_path, \"r\") as f:\n",
    "        h = json.load(f)\n",
    "    fig, ax = plt.subplots(1,2, figsize=(16,6))\n",
    "    ax[0].plot(h.get(\"loss\", []), label=\"loss\")\n",
    "    ax[0].plot(h.get(\"val_loss\", []), label=\"val_loss\")\n",
    "    ax[0].set_title(\"Curvas de pérdida\"); ax[0].set_xlabel(\"epoch\"); ax[0].set_ylabel(\"loss (MSE)\"); ax[0].legend()\n",
    "    ax[1].plot(h.get(\"mae\", []), label=\"mae\")\n",
    "    ax[1].plot(h.get(\"val_mae\", []), label=\"val_mae\")\n",
    "    ax[1].set_title(\"Curvas de MAE\"); ax[1].set_xlabel(\"epoch\"); ax[1].set_ylabel(\"MAE\"); ax[1].legend()\n",
    "    plt.show()\n",
    "\n",
    "for f in sorted(OUT_DIR.glob(\"*_history.json\")):\n",
    "    print(\"Plot ->\", f.name)\n",
    "    plot_history(f)"
   ]
  }
 ],
 "metadata": {
  "kernelspec": {
   "display_name": "especialidadmachinelearning",
   "language": "python",
   "name": "python3"
  },
  "language_info": {
   "codemirror_mode": {
    "name": "ipython",
    "version": 3
   },
   "file_extension": ".py",
   "mimetype": "text/x-python",
   "name": "python",
   "nbconvert_exporter": "python",
   "pygments_lexer": "ipython3",
   "version": "3.10.18"
  }
 },
 "nbformat": 4,
 "nbformat_minor": 5
}
