{
 "cells": [
  {
   "cell_type": "markdown",
   "id": "7072a5ae",
   "metadata": {},
   "source": [
    "\n",
    "# Colab — Fashion-MNIST MLP (Proyecto Especialidad ML)\n",
    "\n",
    "**Antes de empezar:** en Colab ve a **Runtime → Change runtime type → Hardware accelerator = GPU** → *Save*.\n",
    "\n",
    "Este notebook ejecuta tu proyecto modular en Colab con GPU. Incluye tres formas de cargar tu proyecto (GitHub, Drive o ZIP), configura `PYTHONPATH`, corre `scripts/main.py`, y muestra curvas/QC.\n"
   ]
  },
  {
   "cell_type": "markdown",
   "id": "18b3aa6e",
   "metadata": {},
   "source": [
    "## 1) Instalar dependencias mínimas"
   ]
  },
  {
   "cell_type": "code",
   "execution_count": null,
   "id": "8e8f4aa1",
   "metadata": {},
   "outputs": [],
   "source": [
    "\n",
    "# Mantén versiones por defecto de Colab para máxima compatibilidad con GPU\n",
    "!pip -q install -U tensorflow numpy matplotlib pillow\n"
   ]
  },
  {
   "cell_type": "markdown",
   "id": "a8cf393f",
   "metadata": {},
   "source": [
    "## 2) Comprobar TensorFlow y GPU"
   ]
  },
  {
   "cell_type": "code",
   "execution_count": null,
   "id": "21d5350f",
   "metadata": {},
   "outputs": [],
   "source": [
    "\n",
    "import tensorflow as tf\n",
    "print(\"TensorFlow:\", tf.__version__)\n",
    "print(\"Dispositivos:\", tf.config.list_physical_devices())\n",
    "print(\"GPU disponible?:\", bool(tf.config.list_physical_devices('GPU')))\n"
   ]
  },
  {
   "cell_type": "markdown",
   "id": "1dc8af44",
   "metadata": {},
   "source": [
    "\n",
    "## 3) Estructura esperada del proyecto\n",
    "\n",
    "El notebook espera la **estructura modular** que vienes utilizando, por ejemplo:\n",
    "\n",
    "```text\n",
    "/content/Modulo7Clase1MarcoParra/\n",
    "├── scripts/\n",
    "│   └── main.py\n",
    "└── src/\n",
    "    ├── utils/\n",
    "    │   ├── preprocessing.py\n",
    "    │   └── data_loader.py\n",
    "    ├── models/\n",
    "    │   └── mlp.py\n",
    "    ├── evaluator/\n",
    "    │   └── train_eval.py\n",
    "    └── visualizer/\n",
    "        └── plots.py\n",
    "```\n"
   ]
  },
  {
   "cell_type": "markdown",
   "id": "64449f9c",
   "metadata": {},
   "source": [
    "\n",
    "## 4) Importar el proyecto (elige **UNA** opción)\n",
    "\n",
    "### Opción A — Clonar desde GitHub\n",
    "Descomenta la celda y reemplaza la URL por la de tu repo.\n"
   ]
  },
  {
   "cell_type": "code",
   "execution_count": null,
   "id": "75675a85",
   "metadata": {},
   "outputs": [],
   "source": [
    "\n",
    "# %%bash\n",
    "# git clone https://github.com/usuario/Modulo7Clase1MarcoParra.git /content/Modulo7Clase1MarcoParra\n",
    "# echo \"Clonado en /content/Modulo7Clase1MarcoParra\"\n"
   ]
  },
  {
   "cell_type": "markdown",
   "id": "15ee9b92",
   "metadata": {},
   "source": [
    "\n",
    "### Opción B — Montar Google Drive\n",
    "Si subiste tu proyecto a Drive, móntalo y apunta `PROJECT_ROOT` a su carpeta.\n"
   ]
  },
  {
   "cell_type": "code",
   "execution_count": null,
   "id": "886aaa6f",
   "metadata": {},
   "outputs": [],
   "source": [
    "\n",
    "from google.colab import drive\n",
    "drive.mount('/content/drive', force_remount=True)\n",
    "\n",
    "# Cambia la ruta a donde tengas el proyecto en tu Drive\n",
    "PROJECT_ROOT = '/content/drive/MyDrive/Modulo7Clase1MarcoParra'\n"
   ]
  },
  {
   "cell_type": "markdown",
   "id": "66759173",
   "metadata": {},
   "source": [
    "\n",
    "### Opción C — Subir un `.zip`\n",
    "Sube un ZIP con la estructura anterior; se descomprime en `/content/Modulo7Clase1MarcoParra`.\n"
   ]
  },
  {
   "cell_type": "code",
   "execution_count": null,
   "id": "55ea7f28",
   "metadata": {},
   "outputs": [],
   "source": [
    "\n",
    "from google.colab import files\n",
    "import zipfile, os\n",
    "\n",
    "print(\"Selecciona tu archivo .zip del proyecto…\")\n",
    "uploaded = files.upload()  # elige único .zip\n",
    "zip_name = next(iter(uploaded.keys()))\n",
    "zip_path = f\"/content/{zip_name}\"\n",
    "\n",
    "TARGET_DIR = '/content/Modulo7Clase1MarcoParra'\n",
    "os.makedirs(TARGET_DIR, exist_ok=True)\n",
    "\n",
    "with zipfile.ZipFile(zip_path, 'r') as zf:\n",
    "    zf.extractall(TARGET_DIR)\n",
    "\n",
    "PROJECT_ROOT = TARGET_DIR\n",
    "print(\"Proyecto extraído en:\", PROJECT_ROOT)\n",
    "!find \"$PROJECT_ROOT\" -maxdepth 3 -type f -print\n"
   ]
  },
  {
   "cell_type": "markdown",
   "id": "d357ff76",
   "metadata": {},
   "source": [
    "## 5) Configurar `PYTHONPATH` y establecer directorio de trabajo"
   ]
  },
  {
   "cell_type": "code",
   "execution_count": null,
   "id": "e982820f",
   "metadata": {},
   "outputs": [],
   "source": [
    "\n",
    "import sys, os\n",
    "assert 'PROJECT_ROOT' in globals(), \"Define PROJECT_ROOT usando una de las opciones anteriores.\"\n",
    "assert os.path.isdir(PROJECT_ROOT), f\"No existe PROJECT_ROOT: {PROJECT_ROOT}\"\n",
    "\n",
    "if PROJECT_ROOT not in sys.path:\n",
    "    sys.path.insert(0, PROJECT_ROOT)\n",
    "\n",
    "os.chdir(PROJECT_ROOT)\n",
    "print(\"Working dir:\", os.getcwd())\n",
    "print(\"PYTHONPATH OK\")\n",
    "!ls -R | sed -n '1,200p'\n"
   ]
  },
  {
   "cell_type": "markdown",
   "id": "9f723085",
   "metadata": {},
   "source": [
    "## 6) Entrenar (usa tus módulos `src/*` y `scripts/main.py`)"
   ]
  },
  {
   "cell_type": "code",
   "execution_count": null,
   "id": "80fe35c7",
   "metadata": {},
   "outputs": [],
   "source": [
    "\n",
    "from importlib import reload\n",
    "\n",
    "# Imports de tu proyecto\n",
    "from src.utils.preprocessing import load_preprocess\n",
    "from src.models.mlp import build_mlp_course\n",
    "from src.evaluator.train_eval import compile_model, train_model, evaluate_on_test\n",
    "from src.visualizer.plots import plot_history_inline, plot_history_from_json, save_history_qc_report\n",
    "\n",
    "from scripts import main as train_main\n",
    "reload(train_main)\n",
    "\n",
    "# Ejecutar entrenamiento (Adam + CCE, 10 épocas, bs=32, val_split=0.2)\n",
    "train_main.main(out_dir=\"outputs\")\n"
   ]
  },
  {
   "cell_type": "markdown",
   "id": "c7fa6bbd",
   "metadata": {},
   "source": [
    "## 7) Visualizar resultados y QC"
   ]
  },
  {
   "cell_type": "code",
   "execution_count": null,
   "id": "2e7e124a",
   "metadata": {},
   "outputs": [],
   "source": [
    "\n",
    "import os, glob\n",
    "from PIL import Image\n",
    "from IPython.display import display, Markdown\n",
    "\n",
    "OUT = os.path.join(os.getcwd(), \"outputs\")\n",
    "print(\"Outputs en:\", OUT)\n",
    "for p in glob.glob(os.path.join(OUT, \"*\")):\n",
    "    print(\" -\", os.path.basename(p))\n",
    "\n",
    "# Mostrar última imagen de curvas\n",
    "curves = sorted(glob.glob(os.path.join(OUT, \"*_curves.png\")))\n",
    "if curves:\n",
    "    display(Image.open(curves[-1]))\n",
    "\n",
    "# Mostrar QC Markdown (si existe)\n",
    "qc_files = sorted(glob.glob(os.path.join(OUT, \"*_history_qc.md\")))\n",
    "if qc_files:\n",
    "    with open(qc_files[-1], \"r\", encoding=\"utf-8\") as f:\n",
    "        display(Markdown(f.read()))\n"
   ]
  },
  {
   "cell_type": "markdown",
   "id": "d4dbed8e",
   "metadata": {},
   "source": [
    "## 8) (Opcional) Guardar outputs en Drive"
   ]
  },
  {
   "cell_type": "code",
   "execution_count": null,
   "id": "a8ccd515",
   "metadata": {},
   "outputs": [],
   "source": [
    "\n",
    "import shutil, os\n",
    "\n",
    "DEST = '/content/drive/MyDrive/outputs_FashionMNIST_MLP'\n",
    "os.makedirs(DEST, exist_ok=True)\n",
    "\n",
    "SRC = os.path.join(os.getcwd(), 'outputs')\n",
    "if os.path.isdir(SRC):\n",
    "    for fname in os.listdir(SRC):\n",
    "        s = os.path.join(SRC, fname)\n",
    "        d = os.path.join(DEST, fname)\n",
    "        if os.path.isfile(s):\n",
    "            shutil.copy2(s, d)\n",
    "    print(\"Outputs copiados a:\", DEST)\n",
    "else:\n",
    "    print(\"No se encontró la carpeta outputs.\")\n"
   ]
  },
  {
   "cell_type": "markdown",
   "id": "009aaab6",
   "metadata": {},
   "source": [
    "\n",
    "## Notas\n",
    "- Colab no usa *conda* por defecto; replicamos dependencias con `pip`.\n",
    "- Si necesitas igualar versiones exactas de tu local, puedes fijarlas (p. ej. `tensorflow==2.13.*`), aunque Colab suele traer TF moderno con soporte GPU.\n",
    "- Si editas scripts en vivo, usa `from importlib import reload; reload(modulo)` antes de re-ejecutar celdas.\n"
   ]
  }
 ],
 "metadata": {},
 "nbformat": 4,
 "nbformat_minor": 5
}
