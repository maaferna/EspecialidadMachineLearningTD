{
 "cells": [
  {
   "cell_type": "markdown",
   "id": "abdaf761",
   "metadata": {},
   "source": [
    "\n",
    "# 🚀 Especialidad ML — Runner Colab (IMDb LSTM + MNIST GAN)\n",
    "\n",
    "Este notebook ejecuta **ambos scripts** de tu proyecto directamente desde **Google Drive**:\n",
    "\n",
    "- `scripts/lstm_imdb.py` → *Clasificación de sentimiento con LSTM (IMDb)*  \n",
    "- `scripts/gan_mnist.py` → *GAN básica para generar dígitos MNIST*\n",
    "\n",
    "> **Cómo usar**\n",
    "> 1) Monta Drive y fija `PROJECT_ROOT` a la carpeta de TU proyecto.  \n",
    "> 2) (Opcional) Ajusta los argumentos de cada script.  \n",
    "> 3) Ejecuta las celdas de cada sección.\n"
   ]
  },
  {
   "cell_type": "markdown",
   "id": "1970cb0d",
   "metadata": {},
   "source": [
    "## 1) Dependencias (TensorFlow + utilidades)"
   ]
  },
  {
   "cell_type": "code",
   "execution_count": null,
   "id": "0fe1673e",
   "metadata": {},
   "outputs": [],
   "source": [
    "\n",
    "# Colab ya viene con TF, pero fijamos versiones compatibles si fuese necesario.\n",
    "import tensorflow as tf, numpy as np\n",
    "print(\"TensorFlow:\", tf.__version__)\n",
    "print(\"NumPy:\", np.__version__)\n",
    "# Si hay incompatibilidades, puedes descomentar la siguiente línea:\n",
    "# !pip -q install -U 'tensorflow==2.15.0' 'numpy<2.3' matplotlib pillow\n"
   ]
  },
  {
   "cell_type": "markdown",
   "id": "76385a6b",
   "metadata": {},
   "source": [
    "## 2) Montar Drive y fijar ruta del proyecto"
   ]
  },
  {
   "cell_type": "code",
   "execution_count": null,
   "id": "24dc852d",
   "metadata": {},
   "outputs": [],
   "source": [
    "\n",
    "from google.colab import drive\n",
    "drive.mount('/content/drive')\n",
    "\n",
    "# ⚠️ EDITA ESTA RUTA: debe apuntar a la carpeta RAÍZ de tu proyecto en Drive\n",
    "# Ejemplos:\n",
    "# '/content/drive/MyDrive/EspecialidadML/Modulo7Clase2MarcoParra'\n",
    "# '/content/drive/Shareddrives/MiUnidad/Modulo7Clase2MarcoParra'\n",
    "PROJECT_ROOT = '/content/drive/MyDrive/EspecialidadML/Modulo7Clase2MarcoParra'  # <-- CAMBIA AQUÍ\n",
    "\n",
    "import os, sys, glob\n",
    "assert os.path.isdir(PROJECT_ROOT), f'No existe PROJECT_ROOT: {PROJECT_ROOT}'\n",
    "if PROJECT_ROOT not in sys.path:\n",
    "    sys.path.insert(0, PROJECT_ROOT)\n",
    "os.chdir(PROJECT_ROOT)\n",
    "print('Working dir:', os.getcwd())\n",
    "\n",
    "# Mostrar estructura de archivos principal\n",
    "!find . -maxdepth 3 -type f -print | sed -n '1,200p'\n"
   ]
  },
  {
   "cell_type": "markdown",
   "id": "b3c51421",
   "metadata": {},
   "source": [
    "## 3) Comprobación de GPU"
   ]
  },
  {
   "cell_type": "code",
   "execution_count": null,
   "id": "e324bebd",
   "metadata": {},
   "outputs": [],
   "source": [
    "\n",
    "import tensorflow as tf\n",
    "print(\"TensorFlow:\", tf.__version__)\n",
    "print(\"Dispositivos GPU:\", tf.config.list_physical_devices('GPU'))\n"
   ]
  },
  {
   "cell_type": "markdown",
   "id": "f7288f24",
   "metadata": {},
   "source": [
    "\n",
    "## 4) Ejecutar IMDb LSTM\n",
    "\n",
    "Ejecuta tu script **`scripts/lstm_imdb.py`**.  \n",
    "Ajusta argumentos si lo deseas (épocas, batch, bidireccional, etc.).\n"
   ]
  },
  {
   "cell_type": "code",
   "execution_count": null,
   "id": "65f4bc95",
   "metadata": {},
   "outputs": [],
   "source": [
    "\n",
    "# Args por defecto del script (ajusta si quieres):\n",
    "IMDB_EPOCHS = 10\n",
    "IMDB_BATCH  = 64\n",
    "IMDB_MAXLEN = 250\n",
    "IMDB_OUT    = 'outputs_imdb'\n",
    "\n",
    "# Ejecutar por módulo:\n",
    "!python -m scripts.lstm_imdb --epochs {IMDB_EPOCHS} --batch-size {IMDB_BATCH}\n"
   ]
  },
  {
   "cell_type": "markdown",
   "id": "d8385f3f",
   "metadata": {},
   "source": [
    "### Ver resultados IMDb (curvas, QC, matriz de confusión)"
   ]
  },
  {
   "cell_type": "code",
   "execution_count": null,
   "id": "952f8f3d",
   "metadata": {},
   "outputs": [],
   "source": [
    "\n",
    "import os, glob, json, pandas as pd\n",
    "from IPython.display import Image, display\n",
    "\n",
    "# Detectar el último run por nombre de archivo\n",
    "histories = sorted(glob.glob(os.path.join('outputs_imdb', '*_history.json')))\n",
    "assert histories, \"No se encontró history.json en outputs_imdb\"\n",
    "last_history = histories[-1]\n",
    "run_prefix = last_history.replace('_history.json','')\n",
    "curves_png = run_prefix + '_curves.png'\n",
    "qc_md      = run_prefix + '_history_qc.md'\n",
    "cm_csv     = run_prefix + '_confusion_matrix.csv'\n",
    "test_json  = run_prefix + '_test_report.json'\n",
    "\n",
    "print(\"Run base:\", run_prefix)\n",
    "if os.path.isfile(curves_png):\n",
    "    display(Image(filename=curves_png))\n",
    "else:\n",
    "    print(\"No se encontró figura de curvas:\", curves_png)\n",
    "\n",
    "# Mostrar test report\n",
    "if os.path.isfile(test_json):\n",
    "    with open(test_json,'r') as f:\n",
    "        print(\"\\nTEST REPORT:\", json.load(f))\n",
    "else:\n",
    "    print(\"No existe:\", test_json)\n",
    "\n",
    "# Mostrar matriz de confusión si existe como CSV\n",
    "if os.path.isfile(cm_csv):\n",
    "    import pandas as pd\n",
    "    print(\"\\nMatriz de confusión:\")\n",
    "    df_cm = pd.read_csv(cm_csv, header=None)\n",
    "    df_cm.columns = ['Pred:Neg', 'Pred:Pos']\n",
    "    df_cm.index   = ['Real:Neg', 'Real:Pos']\n",
    "    display(df_cm)\n",
    "else:\n",
    "    print(\"No existe:\", cm_csv)\n",
    "\n",
    "print(\"\\nArchivos en outputs_imdb/\")\n",
    "for p in sorted(glob.glob(os.path.join('outputs_imdb', '*'))):\n",
    "    print(\"-\", os.path.basename(p))\n"
   ]
  },
  {
   "cell_type": "markdown",
   "id": "fb897111",
   "metadata": {},
   "source": [
    "\n",
    "## 5) Ejecutar MNIST GAN\n",
    "\n",
    "Ejecuta tu script **`scripts/gan_mnist.py`**.  \n",
    "Guarda pérdidas e imágenes cada ciertos pasos.\n"
   ]
  },
  {
   "cell_type": "code",
   "execution_count": null,
   "id": "91849fa3",
   "metadata": {},
   "outputs": [],
   "source": [
    "\n",
    "# Args por defecto del script (ajusta si tu script los acepta):\n",
    "GAN_OUT   = 'outputs_gan'\n",
    "GAN_STEPS = 3000\n",
    "GAN_SEED  = 42\n",
    "\n",
    "# Ejecutar por módulo (si tu script acepta flags, añádelos aquí).\n",
    "# --steps 3000 --out-dir outputs_gan --seed 42\n",
    "!python -m scripts.gan_mnist\n"
   ]
  },
  {
   "cell_type": "markdown",
   "id": "4e562429",
   "metadata": {},
   "source": [
    "### Ver resultados GAN (pérdidas y muestras generadas)"
   ]
  },
  {
   "cell_type": "code",
   "execution_count": null,
   "id": "f6437138",
   "metadata": {},
   "outputs": [],
   "source": [
    "\n",
    "import os, glob\n",
    "from IPython.display import Image, display\n",
    "\n",
    "loss_png = os.path.join('outputs_gan', 'gan_losses.png')\n",
    "if os.path.isfile(loss_png):\n",
    "    display(Image(filename=loss_png))\n",
    "else:\n",
    "    if os.path.isfile('gan_losses.png'):\n",
    "        display(Image(filename='gan_losses.png'))\n",
    "    else:\n",
    "        print(\"No se encontró gan_losses.png\")\n",
    "\n",
    "samples = sorted(glob.glob(os.path.join('outputs_gan', 'samples_step_*.png')))\n",
    "if not samples:\n",
    "    samples = sorted(glob.glob('samples_step_*.png'))\n",
    "if samples:\n",
    "    print(f\"Mostrando {min(3,len(samples))} figuras (de {len(samples)})...\")\n",
    "    for p in samples[-3:]:\n",
    "        display(Image(filename=p))\n",
    "else:\n",
    "    print(\"No se encontraron samples_step_*.png\")\n",
    "\n",
    "print(\"\\nArchivos en outputs_gan/\")\n",
    "if os.path.isdir('outputs_gan'):\n",
    "    for p in sorted(glob.glob(os.path.join('outputs_gan', '*'))):\n",
    "        print(\"-\", os.path.basename(p))\n",
    "else:\n",
    "    print(\"No existe outputs_gan/ (verifica dónde guarda tu script)\")\n"
   ]
  }
 ],
 "metadata": {},
 "nbformat": 4,
 "nbformat_minor": 5
}
