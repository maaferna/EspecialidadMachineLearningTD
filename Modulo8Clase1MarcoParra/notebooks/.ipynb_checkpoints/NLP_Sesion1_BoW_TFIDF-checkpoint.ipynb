{
 "cells": [
  {
   "cell_type": "markdown",
   "id": "d111c001",
   "metadata": {},
   "source": [
    "\n",
    "# Sesión 1 — NLP clásico (BoW / TF‑IDF / n‑gramas)\n",
    "\n",
    "Este notebook reproduce el flujo de `scripts/main.py` pero mostrando **gráficas inline** y guardando las figuras en `outputs/`.\n"
   ]
  },
  {
   "cell_type": "code",
   "execution_count": null,
   "id": "c3efb54a",
   "metadata": {},
   "outputs": [],
   "source": [
    "\n",
    "# %% Imports y utilidades\n",
    "from __future__ import annotations\n",
    "\n",
    "import os\n",
    "from pathlib import Path\n",
    "from typing import List\n",
    "\n",
    "import numpy as np\n",
    "import pandas as pd\n",
    "import matplotlib.pyplot as plt\n",
    "import seaborn as sns\n",
    "from sklearn.metrics.pairwise import cosine_similarity\n",
    "\n",
    "# Permitir importar desde el proyecto (../)\n",
    "PROJECT_ROOT = Path.cwd()\n",
    "if (PROJECT_ROOT / \"src\").exists():\n",
    "    import sys\n",
    "    if str(PROJECT_ROOT) not in sys.path:\n",
    "        sys.path.insert(0, str(PROJECT_ROOT))\n",
    "\n",
    "from src.data.loader import load_corpus\n",
    "from src.features.vectorize import vectorize_all, top_terms_for_doc\n",
    "\n",
    "def ensure_dir(path: str | os.PathLike) -> None:\n",
    "    Path(path).mkdir(parents=True, exist_ok=True)\n",
    "\n",
    "# Ajustes de gráficos\n",
    "%matplotlib inline\n",
    "sns.set(style=\"whitegrid\")\n",
    "plt.rcParams[\"figure.figsize\"] = (8, 4)\n"
   ]
  },
  {
   "cell_type": "markdown",
   "id": "1d3509a8",
   "metadata": {},
   "source": [
    "## Parámetros"
   ]
  },
  {
   "cell_type": "code",
   "execution_count": null,
   "id": "7a7a140a",
   "metadata": {},
   "outputs": [],
   "source": [
    "\n",
    "# %% Parámetros (puedes editar y volver a ejecutar)\n",
    "corpus_path = \"data/clinical_notes.txt\"  # una nota por línea\n",
    "out_dir = \"outputs\"                      # carpeta de salida de figuras\n",
    "\n",
    "# Vectorización\n",
    "ngram_min = 1\n",
    "ngram_max = 2\n",
    "min_df = 2          # ignora términos muy raros (aparecen en <2 docs)\n",
    "max_df = 0.85       # ignora términos muy comunes (aparecen en >85% docs)\n",
    "\n",
    "# Reportes\n",
    "topk = 10           # términos por documento\n",
    "docs_top = 3        # cuántos documentos graficar (0..N-1)\n"
   ]
  },
  {
   "cell_type": "markdown",
   "id": "a53e5432",
   "metadata": {},
   "source": [
    "## 1) Cargar corpus"
   ]
  },
  {
   "cell_type": "code",
   "execution_count": null,
   "id": "096a03a0",
   "metadata": {},
   "outputs": [],
   "source": [
    "\n",
    "# %% Carga corpus\n",
    "ensure_dir(out_dir)\n",
    "docs: List[str] = load_corpus(corpus_path)\n",
    "print(f\"Corpus cargado: {len(docs)} documentos\")\n"
   ]
  },
  {
   "cell_type": "markdown",
   "id": "63034aaa",
   "metadata": {},
   "source": [
    "## 2) Vectorización (BoW y TF‑IDF)"
   ]
  },
  {
   "cell_type": "code",
   "execution_count": null,
   "id": "4f4ce38e",
   "metadata": {},
   "outputs": [],
   "source": [
    "\n",
    "# %% Vectorización\n",
    "X_bow, X_tfidf, feat_names, _, _ = vectorize_all(\n",
    "    docs=docs,\n",
    "    ngram_range=(ngram_min, ngram_max),\n",
    "    min_df=min_df,\n",
    "    max_df=max_df,\n",
    "    sublinear_tf=True,\n",
    "    norm=\"l2\",\n",
    ")\n",
    "print(f\"BoW shape: {X_bow.shape} | TF-IDF shape: {X_tfidf.shape}\")\n"
   ]
  },
  {
   "cell_type": "markdown",
   "id": "c65be317",
   "metadata": {},
   "source": [
    "## 3) Similaridad por coseno (TF‑IDF) + Heatmap"
   ]
  },
  {
   "cell_type": "code",
   "execution_count": null,
   "id": "a796b6ea",
   "metadata": {},
   "outputs": [],
   "source": [
    "\n",
    "# %% Similaridad y heatmap inline + guardado\n",
    "sim: np.ndarray = cosine_similarity(X_tfidf)\n",
    "\n",
    "fig, ax = plt.subplots(figsize=(6, 5))\n",
    "sns.heatmap(sim, annot=True, fmt=\".2f\", cmap=\"Blues\", square=True, ax=ax)\n",
    "ax.set_title(\"Matriz de similaridad (coseno)\")\n",
    "ax.set_xlabel(\"Documento\")\n",
    "ax.set_ylabel(\"Documento\")\n",
    "heatmap_path = os.path.join(out_dir, \"similarity_heatmap.png\")\n",
    "plt.tight_layout()\n",
    "plt.savefig(heatmap_path, dpi=150)\n",
    "plt.show()\n",
    "\n",
    "print(\"Heatmap guardado en:\", heatmap_path)\n"
   ]
  },
  {
   "cell_type": "markdown",
   "id": "99c5edb6",
   "metadata": {},
   "source": [
    "## 4) Top términos por documento (TF‑IDF)"
   ]
  },
  {
   "cell_type": "code",
   "execution_count": null,
   "id": "a15d1be8",
   "metadata": {},
   "outputs": [],
   "source": [
    "\n",
    "# %% Gráficas de términos top (inline + guardado)\n",
    "n_docs = min(docs_top, X_tfidf.shape[0])\n",
    "\n",
    "for d in range(n_docs):\n",
    "    top = top_terms_for_doc(X_tfidf, feat_names, doc_idx=d, k=topk)\n",
    "    if not top:\n",
    "        print(f\"Doc {d}: sin términos válidos tras el filtrado (min_df/max_df).\")\n",
    "        continue\n",
    "\n",
    "    terms, scores = zip(*top)\n",
    "    fig, ax = plt.subplots(figsize=(8, 4))\n",
    "    ax.barh(terms, scores)\n",
    "    ax.invert_yaxis()\n",
    "    ax.set_title(f\"Doc {d} - Top {topk} términos (TF-IDF)\")\n",
    "    ax.set_xlabel(\"TF-IDF\")\n",
    "    plt.tight_layout()\n",
    "\n",
    "    out_png = os.path.join(out_dir, f\"doc{d}_top_terms.png\")\n",
    "    plt.savefig(out_png, dpi=150)\n",
    "    plt.show()\n",
    "\n",
    "    print(f\"Top términos Doc {d}: {out_png}\")\n"
   ]
  },
  {
   "cell_type": "markdown",
   "id": "30ff0d04",
   "metadata": {},
   "source": [
    "## 5) Pares más similares"
   ]
  },
  {
   "cell_type": "code",
   "execution_count": null,
   "id": "84a82e13",
   "metadata": {},
   "outputs": [],
   "source": [
    "\n",
    "# %% Pares más similares (excluye diagonal)\n",
    "print(\"Documentos más similares (TF-IDF + coseno):\")\n",
    "for i in range(sim.shape[0]):\n",
    "    row = sim[i].copy()\n",
    "    row[i] = -np.inf\n",
    "    j = int(np.argmax(row))\n",
    "    print(f\"  D{i} ↔ D{j} | similitud={sim[i, j]:.3f}\")\n"
   ]
  }
 ],
 "metadata": {},
 "nbformat": 4,
 "nbformat_minor": 5
}